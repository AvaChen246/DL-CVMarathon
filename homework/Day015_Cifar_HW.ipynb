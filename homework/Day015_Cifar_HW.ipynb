{
 "cells": [
  {
   "cell_type": "markdown",
   "metadata": {},
   "source": [
    "## 『本次練習內容』\n",
    "#### 運用這幾天所學觀念搭建一個CNN分類器"
   ]
  },
  {
   "cell_type": "markdown",
   "metadata": {},
   "source": [
    "## 『本次練習目的』\n",
    "  #### 熟悉CNN分類器搭建步驟與原理\n",
    "  #### 學員們可以嘗試不同搭法，如使用不同的Maxpooling層，用GlobalAveragePooling取代Flatten等等"
   ]
  },
  {
   "cell_type": "code",
   "execution_count": 7,
   "metadata": {},
   "outputs": [],
   "source": [
    "from keras.models import Sequential\n",
    "from keras.layers import Conv2D\n",
    "from keras.layers import MaxPooling2D\n",
    "from keras.layers import Flatten, GlobalAveragePooling2D\n",
    "from keras.layers import Dense\n",
    "from keras.layers import Dropout\n",
    "from keras.layers import BatchNormalization,Activation\n",
    "from keras.datasets import cifar10\n",
    "import numpy as np\n",
    "import tensorflow as tf\n",
    "from sklearn.preprocessing import OneHotEncoder\n"
   ]
  },
  {
   "cell_type": "code",
   "execution_count": 2,
   "metadata": {},
   "outputs": [
    {
     "name": "stdout",
     "output_type": "stream",
     "text": [
      "(50000, 32, 32, 3)\n"
     ]
    }
   ],
   "source": [
    "(x_train, y_train), (x_test, y_test) = cifar10.load_data()\n",
    "\n",
    "print(x_train.shape) #(50000, 32, 32, 3)\n",
    "\n",
    "## Normalize Data\n",
    "def normalize(X_train,X_test):\n",
    "        mean = np.mean(X_train,axis=(0,1,2,3))\n",
    "        std = np.std(X_train, axis=(0, 1, 2, 3))\n",
    "        X_train = (X_train-mean)/(std+1e-7)\n",
    "        X_test = (X_test-mean)/(std+1e-7) \n",
    "        return X_train, X_test,mean,std\n",
    "    \n",
    "    \n",
    "## Normalize Training and Testset    \n",
    "x_train, x_test,mean_train,std_train = normalize(x_train, x_test) "
   ]
  },
  {
   "cell_type": "code",
   "execution_count": 3,
   "metadata": {},
   "outputs": [],
   "source": [
    "## OneHot Label 由(None, 1)-(None, 10)\n",
    "## ex. label=2,變成[0,0,1,0,0,0,0,0,0,0]\n",
    "one_hot=OneHotEncoder()\n",
    "y_train=one_hot.fit_transform(y_train).toarray()\n",
    "y_test=one_hot.transform(y_test).toarray()"
   ]
  },
  {
   "cell_type": "code",
   "execution_count": 8,
   "metadata": {},
   "outputs": [
    {
     "name": "stderr",
     "output_type": "stream",
     "text": [
      "C:\\ProgramData\\Anaconda3\\envs\\tf_2.1\\lib\\site-packages\\ipykernel_launcher.py:13: UserWarning: Update your `Dense` call to the Keras 2 API: `Dense(activation=\"relu\", units=100)`\n",
      "  del sys.path[0]\n",
      "C:\\ProgramData\\Anaconda3\\envs\\tf_2.1\\lib\\site-packages\\ipykernel_launcher.py:16: UserWarning: Update your `Dense` call to the Keras 2 API: `Dense(activation=\"softmax\", units=10)`\n",
      "  app.launch_new_instance()\n"
     ]
    },
    {
     "name": "stdout",
     "output_type": "stream",
     "text": [
      "Epoch 1/100\n",
      "50000/50000 [==============================] - 9s 186us/step - loss: 1.3340 - accuracy: 0.5242\n",
      "Epoch 2/100\n",
      "50000/50000 [==============================] - 7s 131us/step - loss: 0.9673 - accuracy: 0.6584\n",
      "Epoch 3/100\n",
      "50000/50000 [==============================] - 7s 131us/step - loss: 0.8376 - accuracy: 0.7043\n",
      "Epoch 4/100\n",
      "50000/50000 [==============================] - 7s 131us/step - loss: 0.7522 - accuracy: 0.7374\n",
      "Epoch 5/100\n",
      "50000/50000 [==============================] - 7s 132us/step - loss: 0.6880 - accuracy: 0.7589\n",
      "Epoch 6/100\n",
      "50000/50000 [==============================] - 7s 131us/step - loss: 0.6329 - accuracy: 0.7786\n",
      "Epoch 7/100\n",
      "50000/50000 [==============================] - 7s 132us/step - loss: 0.5797 - accuracy: 0.7986\n",
      "Epoch 8/100\n",
      "50000/50000 [==============================] - 7s 132us/step - loss: 0.5382 - accuracy: 0.8104\n",
      "Epoch 9/100\n",
      "50000/50000 [==============================] - 7s 132us/step - loss: 0.4859 - accuracy: 0.8301\n",
      "Epoch 10/100\n",
      "50000/50000 [==============================] - 7s 132us/step - loss: 0.4442 - accuracy: 0.8440\n",
      "Epoch 11/100\n",
      "50000/50000 [==============================] - 7s 132us/step - loss: 0.4059 - accuracy: 0.8579\n",
      "Epoch 12/100\n",
      "50000/50000 [==============================] - 7s 132us/step - loss: 0.3659 - accuracy: 0.8718\n",
      "Epoch 13/100\n",
      "50000/50000 [==============================] - 7s 132us/step - loss: 0.3356 - accuracy: 0.8830\n",
      "Epoch 14/100\n",
      "50000/50000 [==============================] - 7s 132us/step - loss: 0.3029 - accuracy: 0.8925\n",
      "Epoch 15/100\n",
      "50000/50000 [==============================] - 7s 132us/step - loss: 0.2689 - accuracy: 0.9072\n",
      "Epoch 16/100\n",
      "50000/50000 [==============================] - 7s 132us/step - loss: 0.2499 - accuracy: 0.9127\n",
      "Epoch 17/100\n",
      "50000/50000 [==============================] - 7s 132us/step - loss: 0.2316 - accuracy: 0.9180\n",
      "Epoch 18/100\n",
      "50000/50000 [==============================] - 7s 132us/step - loss: 0.2025 - accuracy: 0.9287\n",
      "Epoch 19/100\n",
      "50000/50000 [==============================] - 7s 132us/step - loss: 0.1877 - accuracy: 0.9349\n",
      "Epoch 20/100\n",
      "50000/50000 [==============================] - 7s 132us/step - loss: 0.1744 - accuracy: 0.9403\n",
      "Epoch 21/100\n",
      "50000/50000 [==============================] - 7s 132us/step - loss: 0.1558 - accuracy: 0.9459\n",
      "Epoch 22/100\n",
      "50000/50000 [==============================] - 7s 132us/step - loss: 0.1408 - accuracy: 0.9508\n",
      "Epoch 23/100\n",
      "50000/50000 [==============================] - 7s 132us/step - loss: 0.1422 - accuracy: 0.9498\n",
      "Epoch 24/100\n",
      "50000/50000 [==============================] - 7s 132us/step - loss: 0.1299 - accuracy: 0.9552\n",
      "Epoch 25/100\n",
      "50000/50000 [==============================] - 7s 132us/step - loss: 0.1180 - accuracy: 0.9592\n",
      "Epoch 26/100\n",
      "50000/50000 [==============================] - 7s 132us/step - loss: 0.1140 - accuracy: 0.9604\n",
      "Epoch 27/100\n",
      "50000/50000 [==============================] - 7s 133us/step - loss: 0.1023 - accuracy: 0.9640\n",
      "Epoch 28/100\n",
      "50000/50000 [==============================] - 7s 133us/step - loss: 0.0964 - accuracy: 0.9671\n",
      "Epoch 29/100\n",
      "50000/50000 [==============================] - 7s 132us/step - loss: 0.0932 - accuracy: 0.9674\n",
      "Epoch 30/100\n",
      "50000/50000 [==============================] - 7s 134us/step - loss: 0.1018 - accuracy: 0.9643\n",
      "Epoch 31/100\n",
      "50000/50000 [==============================] - 8s 160us/step - loss: 0.0865 - accuracy: 0.9706\n",
      "Epoch 32/100\n",
      "50000/50000 [==============================] - 7s 130us/step - loss: 0.0782 - accuracy: 0.9738\n",
      "Epoch 33/100\n",
      "50000/50000 [==============================] - 7s 130us/step - loss: 0.0822 - accuracy: 0.9719\n",
      "Epoch 34/100\n",
      "50000/50000 [==============================] - 7s 130us/step - loss: 0.0865 - accuracy: 0.9693\n",
      "Epoch 35/100\n",
      "50000/50000 [==============================] - 7s 131us/step - loss: 0.0745 - accuracy: 0.9745\n",
      "Epoch 36/100\n",
      "50000/50000 [==============================] - 7s 131us/step - loss: 0.0715 - accuracy: 0.9752\n",
      "Epoch 37/100\n",
      "50000/50000 [==============================] - 7s 131us/step - loss: 0.0795 - accuracy: 0.9725\n",
      "Epoch 38/100\n",
      "50000/50000 [==============================] - 7s 130us/step - loss: 0.0709 - accuracy: 0.9756\n",
      "Epoch 39/100\n",
      "50000/50000 [==============================] - 7s 131us/step - loss: 0.0549 - accuracy: 0.9816\n",
      "Epoch 40/100\n",
      "50000/50000 [==============================] - 6s 130us/step - loss: 0.0598 - accuracy: 0.9798\n",
      "Epoch 41/100\n",
      "50000/50000 [==============================] - 7s 130us/step - loss: 0.0715 - accuracy: 0.9752\n",
      "Epoch 42/100\n",
      "50000/50000 [==============================] - 7s 130us/step - loss: 0.0617 - accuracy: 0.9792\n",
      "Epoch 43/100\n",
      "50000/50000 [==============================] - 7s 130us/step - loss: 0.0613 - accuracy: 0.9789\n",
      "Epoch 44/100\n",
      "50000/50000 [==============================] - 7s 130us/step - loss: 0.0519 - accuracy: 0.9816\n",
      "Epoch 45/100\n",
      "50000/50000 [==============================] - 7s 130us/step - loss: 0.0517 - accuracy: 0.9826\n",
      "Epoch 46/100\n",
      "50000/50000 [==============================] - 7s 130us/step - loss: 0.0711 - accuracy: 0.9753\n",
      "Epoch 47/100\n",
      "50000/50000 [==============================] - 7s 131us/step - loss: 0.0543 - accuracy: 0.9813\n",
      "Epoch 48/100\n",
      "50000/50000 [==============================] - 7s 131us/step - loss: 0.0567 - accuracy: 0.9808\n",
      "Epoch 49/100\n",
      "50000/50000 [==============================] - 7s 131us/step - loss: 0.0507 - accuracy: 0.9825\n",
      "Epoch 50/100\n",
      "50000/50000 [==============================] - 7s 131us/step - loss: 0.0438 - accuracy: 0.9845\n",
      "Epoch 51/100\n",
      "50000/50000 [==============================] - 7s 130us/step - loss: 0.0555 - accuracy: 0.9808\n",
      "Epoch 52/100\n",
      "50000/50000 [==============================] - 7s 131us/step - loss: 0.0530 - accuracy: 0.9817\n",
      "Epoch 53/100\n",
      "50000/50000 [==============================] - 7s 131us/step - loss: 0.0500 - accuracy: 0.9828\n",
      "Epoch 54/100\n",
      "50000/50000 [==============================] - 7s 131us/step - loss: 0.0638 - accuracy: 0.9785\n",
      "Epoch 55/100\n",
      "50000/50000 [==============================] - 7s 131us/step - loss: 0.0418 - accuracy: 0.9862\n",
      "Epoch 56/100\n",
      "50000/50000 [==============================] - 7s 131us/step - loss: 0.0473 - accuracy: 0.9842\n",
      "Epoch 57/100\n",
      "50000/50000 [==============================] - 7s 131us/step - loss: 0.0470 - accuracy: 0.9837\n",
      "Epoch 58/100\n",
      "50000/50000 [==============================] - 7s 131us/step - loss: 0.0473 - accuracy: 0.9834\n",
      "Epoch 59/100\n",
      "50000/50000 [==============================] - 7s 131us/step - loss: 0.0404 - accuracy: 0.9861\n",
      "Epoch 60/100\n",
      "50000/50000 [==============================] - 7s 131us/step - loss: 0.0421 - accuracy: 0.9858\n",
      "Epoch 61/100\n",
      "50000/50000 [==============================] - 7s 131us/step - loss: 0.0494 - accuracy: 0.9833\n",
      "Epoch 62/100\n",
      "50000/50000 [==============================] - 7s 131us/step - loss: 0.0464 - accuracy: 0.9846\n",
      "Epoch 63/100\n",
      "50000/50000 [==============================] - 7s 131us/step - loss: 0.0391 - accuracy: 0.9865\n",
      "Epoch 64/100\n",
      "50000/50000 [==============================] - 7s 131us/step - loss: 0.0363 - accuracy: 0.9876\n",
      "Epoch 65/100\n",
      "50000/50000 [==============================] - 7s 131us/step - loss: 0.0452 - accuracy: 0.9835\n",
      "Epoch 66/100\n",
      "50000/50000 [==============================] - 7s 131us/step - loss: 0.0426 - accuracy: 0.9855\n",
      "Epoch 67/100\n",
      "50000/50000 [==============================] - 7s 131us/step - loss: 0.0383 - accuracy: 0.9873\n",
      "Epoch 68/100\n",
      "50000/50000 [==============================] - 7s 131us/step - loss: 0.0293 - accuracy: 0.9905\n",
      "Epoch 69/100\n",
      "50000/50000 [==============================] - 7s 131us/step - loss: 0.0450 - accuracy: 0.9843\n",
      "Epoch 70/100\n",
      "50000/50000 [==============================] - 7s 131us/step - loss: 0.0354 - accuracy: 0.9876\n",
      "Epoch 71/100\n",
      "50000/50000 [==============================] - 7s 131us/step - loss: 0.0390 - accuracy: 0.9868\n",
      "Epoch 72/100\n",
      "50000/50000 [==============================] - 7s 131us/step - loss: 0.0507 - accuracy: 0.9831\n",
      "Epoch 73/100\n",
      "50000/50000 [==============================] - 7s 131us/step - loss: 0.0270 - accuracy: 0.9915\n",
      "Epoch 74/100\n",
      "50000/50000 [==============================] - 7s 130us/step - loss: 0.0359 - accuracy: 0.9881\n",
      "Epoch 75/100\n",
      "50000/50000 [==============================] - 7s 133us/step - loss: 0.0416 - accuracy: 0.9853\n",
      "Epoch 76/100\n",
      "50000/50000 [==============================] - 7s 131us/step - loss: 0.0298 - accuracy: 0.9895\n"
     ]
    },
    {
     "name": "stdout",
     "output_type": "stream",
     "text": [
      "Epoch 77/100\n",
      "50000/50000 [==============================] - 7s 130us/step - loss: 0.0441 - accuracy: 0.9850\n",
      "Epoch 78/100\n",
      "50000/50000 [==============================] - 7s 130us/step - loss: 0.0276 - accuracy: 0.9909\n",
      "Epoch 79/100\n",
      "50000/50000 [==============================] - 7s 130us/step - loss: 0.0310 - accuracy: 0.9894\n",
      "Epoch 80/100\n",
      "50000/50000 [==============================] - 6s 130us/step - loss: 0.0402 - accuracy: 0.9865\n",
      "Epoch 81/100\n",
      "50000/50000 [==============================] - 6s 130us/step - loss: 0.0358 - accuracy: 0.9887\n",
      "Epoch 82/100\n",
      "50000/50000 [==============================] - 7s 130us/step - loss: 0.0352 - accuracy: 0.9878\n",
      "Epoch 83/100\n",
      "50000/50000 [==============================] - 7s 131us/step - loss: 0.0286 - accuracy: 0.9907\n",
      "Epoch 84/100\n",
      "50000/50000 [==============================] - 7s 131us/step - loss: 0.0282 - accuracy: 0.9903\n",
      "Epoch 85/100\n",
      "50000/50000 [==============================] - 7s 131us/step - loss: 0.0318 - accuracy: 0.9895\n",
      "Epoch 86/100\n",
      "50000/50000 [==============================] - 7s 131us/step - loss: 0.0385 - accuracy: 0.9867\n",
      "Epoch 87/100\n",
      "50000/50000 [==============================] - 7s 131us/step - loss: 0.0310 - accuracy: 0.9894\n",
      "Epoch 88/100\n",
      "50000/50000 [==============================] - 7s 131us/step - loss: 0.0265 - accuracy: 0.9908\n",
      "Epoch 89/100\n",
      "50000/50000 [==============================] - 7s 131us/step - loss: 0.0285 - accuracy: 0.9907\n",
      "Epoch 90/100\n",
      "50000/50000 [==============================] - 7s 131us/step - loss: 0.0358 - accuracy: 0.9876\n",
      "Epoch 91/100\n",
      "50000/50000 [==============================] - 7s 131us/step - loss: 0.0260 - accuracy: 0.9914\n",
      "Epoch 92/100\n",
      "50000/50000 [==============================] - 7s 131us/step - loss: 0.0255 - accuracy: 0.9918\n",
      "Epoch 93/100\n",
      "50000/50000 [==============================] - 7s 131us/step - loss: 0.0360 - accuracy: 0.9884\n",
      "Epoch 94/100\n",
      "50000/50000 [==============================] - 7s 131us/step - loss: 0.0262 - accuracy: 0.9909\n",
      "Epoch 95/100\n",
      "50000/50000 [==============================] - 6s 130us/step - loss: 0.0262 - accuracy: 0.9915\n",
      "Epoch 96/100\n",
      "50000/50000 [==============================] - 7s 131us/step - loss: 0.0288 - accuracy: 0.9909\n",
      "Epoch 97/100\n",
      "50000/50000 [==============================] - 7s 131us/step - loss: 0.0244 - accuracy: 0.9917\n",
      "Epoch 98/100\n",
      "50000/50000 [==============================] - 7s 131us/step - loss: 0.0273 - accuracy: 0.9909\n",
      "Epoch 99/100\n",
      "50000/50000 [==============================] - 7s 131us/step - loss: 0.0377 - accuracy: 0.9869\n",
      "Epoch 100/100\n",
      "50000/50000 [==============================] - 7s 131us/step - loss: 0.0292 - accuracy: 0.9897\n"
     ]
    },
    {
     "data": {
      "text/plain": [
       "<keras.callbacks.callbacks.History at 0x1b13d178b08>"
      ]
     },
     "execution_count": 8,
     "metadata": {},
     "output_type": "execute_result"
    }
   ],
   "source": [
    "\n",
    "classifier=Sequential()\n",
    "classifier.add(Conv2D(filters=32, kernel_size=(3,3),input_shape=(32,32,3), padding='same'))\n",
    "classifier.add(BatchNormalization())\n",
    "classifier.add(Activation('relu'))\n",
    "classifier.add(MaxPooling2D(pool_size=(2,2)))\n",
    "classifier.add(Conv2D(filters=32, kernel_size=(3,3),padding='same'))\n",
    "classifier.add(BatchNormalization())\n",
    "classifier.add(Activation('relu'))\n",
    "#flatten\n",
    "classifier.add(Flatten())\n",
    "\n",
    "#FC\n",
    "classifier.add(Dense(output_dim=100,activation='relu')) #output_dim=100,activation=relu\n",
    "\n",
    "#輸出\n",
    "classifier.add(Dense(output_dim=10,activation='softmax'))\n",
    "\n",
    "#超過兩個就要選categorical_crossentrophy\n",
    "classifier.compile(optimizer = 'adam', loss = 'categorical_crossentropy', metrics = ['accuracy'])\n",
    "classifier.fit(x_train,y_train,batch_size=100,epochs=100)"
   ]
  },
  {
   "cell_type": "markdown",
   "metadata": {},
   "source": [
    "## 預測新圖片，輸入影像前處理要與訓練時相同\n",
    "#### ((X-mean)/(std+1e-7) ):這裡的mean跟std是訓練集的\n",
    "## 維度如下方示範"
   ]
  },
  {
   "cell_type": "code",
   "execution_count": 9,
   "metadata": {},
   "outputs": [
    {
     "data": {
      "text/plain": [
       "array([[5.57590649e-03, 4.06227453e-04, 3.45112880e-07, 6.44863486e-01,\n",
       "        3.47776890e-01, 3.19369314e-13, 1.81901180e-06, 5.34957007e-06,\n",
       "        1.36993953e-03, 1.11219736e-17]], dtype=float32)"
      ]
     },
     "execution_count": 9,
     "metadata": {},
     "output_type": "execute_result"
    }
   ],
   "source": [
    "input_example=(np.zeros(shape=(1,32,32,3))-mean_train)/(std_train+1e-7) # only test one picture, not x_test,y_test\n",
    "classifier.predict(input_example)"
   ]
  },
  {
   "cell_type": "code",
   "execution_count": 10,
   "metadata": {},
   "outputs": [
    {
     "name": "stdout",
     "output_type": "stream",
     "text": [
      "10000/10000 [==============================] - 1s 109us/step\n",
      "Test loss: 3.870033257675171\n",
      "Test accuracy: 0.6521000266075134\n"
     ]
    }
   ],
   "source": [
    "score = classifier.evaluate(x_test, y_test, verbose=1)\n",
    "print('Test loss:', score[0])\n",
    "print('Test accuracy:', score[1])"
   ]
  }
 ],
 "metadata": {
  "kernelspec": {
   "display_name": "Python tf2.1",
   "language": "python",
   "name": "tf_2.1"
  },
  "language_info": {
   "codemirror_mode": {
    "name": "ipython",
    "version": 3
   },
   "file_extension": ".py",
   "mimetype": "text/x-python",
   "name": "python",
   "nbconvert_exporter": "python",
   "pygments_lexer": "ipython3",
   "version": "3.7.7"
  }
 },
 "nbformat": 4,
 "nbformat_minor": 2
}
